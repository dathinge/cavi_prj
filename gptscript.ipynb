{
 "cells": [
  {
   "cell_type": "markdown",
   "metadata": {},
   "source": [
    "### Prueba con codigo hecho con chatgpt"
   ]
  },
  {
   "cell_type": "code",
   "execution_count": 2,
   "metadata": {},
   "outputs": [],
   "source": [
    "import os\n",
    "import pandas as pd\n",
    "import shutil"
   ]
  },
  {
   "cell_type": "code",
   "execution_count": 4,
   "metadata": {},
   "outputs": [
    {
     "name": "stdout",
     "output_type": "stream",
     "text": [
      "Processed coordinates file saved to: /mnt/d/My_Prj/cavi_prj/dataDynamo/Extracted_Coordinates_quimey_co.csv\n",
      "Modified file saved to: Modified_A-12-CAV-SWMM-Actual_test.inp\n"
     ]
    }
   ],
   "source": [
    "# Define destination path and name of the street\n",
    "street_name = \"quimey_co\"                                                          # Define name\n",
    "destination_folder = \"/mnt/d/My_Prj/cavi_prj/dataDynamo/\"                           # Define path\n",
    "destination_path = os.path.join(destination_folder,\"trazaxyz_\"+ street_name + \".csv\")\n",
    "\n",
    "# Process the copied trazaxyz_street.csv file\n",
    "def clean_line(line):\n",
    "    line = line.replace(\"Point(X = \", \"\").replace(\" Y = \", \"\").replace(\" Z = \", \"\").replace(\")\", \"\")\n",
    "    return line\n",
    "\n",
    "# Read the trazaxyz_street.csv , clean it, and save to Extracted_Coordinates.csv (renaming if necessary)\n",
    "cleaned_lines = []\n",
    "with open(destination_path, 'r') as file:\n",
    "    for line in file:\n",
    "        cleaned_lines.append(clean_line(line))\n",
    "\n",
    "# Ensure the cleaned file is saved with a unique name if it already exists\n",
    "output_file_path = os.path.join(destination_folder, f'Extracted_Coordinates_{street_name}.csv')\n",
    "if os.path.exists(output_file_path):\n",
    "    counter = 1\n",
    "    while os.path.exists(output_file_path):\n",
    "        output_file_path = os.path.join(destination_folder, f'Extracted_Coordinates_{street_name}_{counter}.csv')\n",
    "        counter += 1\n",
    "\n",
    "# Write the cleaned lines to the new CSV file\n",
    "with open(output_file_path, 'w') as file:\n",
    "    file.writelines(cleaned_lines)\n",
    "\n",
    "# Load the cleaned coordinates CSV file\n",
    "coordinates_data = pd.read_csv(output_file_path, header=None)\n",
    "coordinates_data.columns = ['X', 'Y', 'Z']\n",
    "\n",
    "# Load the SWMM model file\n",
    "swmm_model_file_path = 'A-12-CAV-SWMM-Actual_test.inp'                          # Define source file location\n",
    "with open(swmm_model_file_path, 'r', encoding='latin1') as file:\n",
    "    swmm_model_data = file.readlines()\n",
    "\n",
    "# Generate new junction names and prepare data to add\n",
    "new_junctions = []\n",
    "new_coordinates = []\n",
    "junction_counter = 1\n",
    "\n",
    "for index, row in coordinates_data.iterrows():\n",
    "    junction_name = f\"{street_name}_{junction_counter}\"\n",
    "    x, y, z = row['X'], row['Y'], row['Z']\n",
    "    \n",
    "    # Add to [COORDINATES] section\n",
    "    new_coordinates.append(f\"{junction_name}\\t{x:.3f}\\t{y:.3f}\\n\")\n",
    "    \n",
    "    # Add to [JUNCTIONS] section\n",
    "    new_junctions.append(f\"{junction_name}\\t{z:.3f}\\t0\\t0\\t0\\t0\\n\")\n",
    "    \n",
    "    junction_counter += 1\n",
    "\n",
    "# Find where to insert the new data in the SWMM model file\n",
    "coordinates_section_start = None\n",
    "junctions_section_start = None\n",
    "\n",
    "for i, line in enumerate(swmm_model_data):\n",
    "    if '[COORDINATES]' in line:\n",
    "        coordinates_section_start = i + 3  # Skip the header line\n",
    "    if '[JUNCTIONS]' in line:\n",
    "        junctions_section_start = i + 3  # Skip the header line\n",
    "\n",
    "# Insert new junction data\n",
    "if coordinates_section_start is not None:\n",
    "    swmm_model_data[coordinates_section_start:coordinates_section_start] = new_coordinates\n",
    "\n",
    "if junctions_section_start is not None:\n",
    "    swmm_model_data[junctions_section_start:junctions_section_start] = new_junctions\n",
    "\n",
    "# Save the modified SWMM model file\n",
    "modified_swmm_model_file_path = 'Modified_A-12-CAV-SWMM-Actual_test.inp'        # Define path\n",
    "with open(modified_swmm_model_file_path, 'w', encoding='latin1') as file:\n",
    "    file.writelines(swmm_model_data)\n",
    "\n",
    "print(f\"Processed coordinates file saved to: {output_file_path}\")\n",
    "print(f\"Modified file saved to: {modified_swmm_model_file_path}\")"
   ]
  }
 ],
 "metadata": {
  "kernelspec": {
   "display_name": "pyswmm",
   "language": "python",
   "name": "python3"
  },
  "language_info": {
   "codemirror_mode": {
    "name": "ipython",
    "version": 3
   },
   "file_extension": ".py",
   "mimetype": "text/x-python",
   "name": "python",
   "nbconvert_exporter": "python",
   "pygments_lexer": "ipython3",
   "version": "3.12.4"
  }
 },
 "nbformat": 4,
 "nbformat_minor": 2
}
