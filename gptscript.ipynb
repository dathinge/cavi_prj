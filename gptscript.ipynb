{
 "cells": [
  {
   "cell_type": "markdown",
   "metadata": {},
   "source": [
    "### Prueba con codigo hecho con chatgpt"
   ]
  },
  {
   "cell_type": "code",
   "execution_count": null,
   "metadata": {},
   "outputs": [],
   "source": [
    "import pandas as pd\n",
    "import re"
   ]
  },
  {
   "cell_type": "code",
   "execution_count": null,
   "metadata": {},
   "outputs": [],
   "source": [
    "# Attempt to read the inp file\n",
    "with open(\"A-12-CAV-SWMM-Actual_test.inp\", 'r', encoding='latin1') as file:\n",
    "    swmm_model_data = file.readlines()\n",
    "\n",
    "# Generate new junction names and prepare data to add\n",
    "new_junctions = []\n",
    "new_coordinates = []\n",
    "junction_counter = 1\n",
    "\n",
    "for index, row in coordinates_data.iterrows():\n",
    "    junction_name = f\"new junction {junction_counter}\"\n",
    "    x, y, z = row['X'], row['Y'], row['Z']\n",
    "    \n",
    "    # Add to [COORDINATES] section\n",
    "    new_coordinates.append(f\"{junction_name}\\t{x:.3f}\\t{y:.3f}\\n\")\n",
    "    \n",
    "    # Add to [JUNCTIONS] section\n",
    "    new_junctions.append(f\"{junction_name}\\t{z:.3f}\\t0\\t0\\t0\\t0\\n\")\n",
    "    \n",
    "    junction_counter += 1\n",
    "\n",
    "# Find where to insert the new data in the SWMM model file\n",
    "coordinates_section_start = None\n",
    "junctions_section_start = None\n",
    "\n",
    "for i, line in enumerate(swmm_model_data):\n",
    "    if '[COORDINATES]' in line:\n",
    "        coordinates_section_start = i + 2  # Skip the header line\n",
    "    if '[JUNCTIONS]' in line:\n",
    "        junctions_section_start = i + 2  # Skip the header line\n",
    "\n",
    "# Insert new junction data\n",
    "if coordinates_section_start is not None:\n",
    "    swmm_model_data[coordinates_section_start:coordinates_section_start] = new_coordinates\n",
    "\n",
    "if junctions_section_start is not None:\n",
    "    swmm_model_data[junctions_section_start:junctions_section_start] = new_junctions\n",
    "\n",
    "# Save the modified SWMM model file\n",
    "modified_swmm_model_file_path = 'Modified_A-12-CAV-SWMM-Actual_test.inp'\n",
    "with open(modified_swmm_model_file_path, 'w', encoding='latin1') as file:\n",
    "    file.writelines(swmm_model_data)\n",
    "\n",
    "modified_swmm_model_file_path"
   ]
  }
 ],
 "metadata": {
  "kernelspec": {
   "display_name": "pyswmm",
   "language": "python",
   "name": "python3"
  },
  "language_info": {
   "name": "python",
   "version": "3.12.3"
  }
 },
 "nbformat": 4,
 "nbformat_minor": 2
}
