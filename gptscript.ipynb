{
 "cells": [
  {
   "cell_type": "markdown",
   "metadata": {},
   "source": [
    "### Prueba con codigo hecho con chatgpt"
   ]
  },
  {
   "cell_type": "code",
   "execution_count": 1,
   "metadata": {},
   "outputs": [],
   "source": [
    "import os\n",
    "import pandas as pd\n",
    "import shutil"
   ]
  },
  {
   "cell_type": "code",
   "execution_count": 2,
   "metadata": {},
   "outputs": [
    {
     "ename": "FileNotFoundError",
     "evalue": "[Errno 2] No such file or directory: '/mnt/d/My_Prj/cavi_prj/dataDynamo/trazaxyz_/8_de_abril/.csv'",
     "output_type": "error",
     "traceback": [
      "\u001b[0;31m---------------------------------------------------------------------------\u001b[0m",
      "\u001b[0;31mFileNotFoundError\u001b[0m                         Traceback (most recent call last)",
      "Cell \u001b[0;32mIn[2], line 13\u001b[0m\n\u001b[1;32m     11\u001b[0m \u001b[38;5;66;03m# Read the trazaxyz_street.csv , clean it, and save to Extracted_Coordinates.csv (renaming if necessary)\u001b[39;00m\n\u001b[1;32m     12\u001b[0m cleaned_lines \u001b[38;5;241m=\u001b[39m []\n\u001b[0;32m---> 13\u001b[0m \u001b[38;5;28;01mwith\u001b[39;00m \u001b[38;5;28;43mopen\u001b[39;49m\u001b[43m(\u001b[49m\u001b[43mdestination_path\u001b[49m\u001b[43m,\u001b[49m\u001b[43m \u001b[49m\u001b[38;5;124;43m'\u001b[39;49m\u001b[38;5;124;43mr\u001b[39;49m\u001b[38;5;124;43m'\u001b[39;49m\u001b[43m)\u001b[49m \u001b[38;5;28;01mas\u001b[39;00m file:\n\u001b[1;32m     14\u001b[0m     \u001b[38;5;28;01mfor\u001b[39;00m line \u001b[38;5;129;01min\u001b[39;00m file:\n\u001b[1;32m     15\u001b[0m         cleaned_lines\u001b[38;5;241m.\u001b[39mappend(clean_line(line))\n",
      "File \u001b[0;32m~/anaconda3/envs/swmmexp/lib/python3.12/site-packages/IPython/core/interactiveshell.py:324\u001b[0m, in \u001b[0;36m_modified_open\u001b[0;34m(file, *args, **kwargs)\u001b[0m\n\u001b[1;32m    317\u001b[0m \u001b[38;5;28;01mif\u001b[39;00m file \u001b[38;5;129;01min\u001b[39;00m {\u001b[38;5;241m0\u001b[39m, \u001b[38;5;241m1\u001b[39m, \u001b[38;5;241m2\u001b[39m}:\n\u001b[1;32m    318\u001b[0m     \u001b[38;5;28;01mraise\u001b[39;00m \u001b[38;5;167;01mValueError\u001b[39;00m(\n\u001b[1;32m    319\u001b[0m         \u001b[38;5;124mf\u001b[39m\u001b[38;5;124m\"\u001b[39m\u001b[38;5;124mIPython won\u001b[39m\u001b[38;5;124m'\u001b[39m\u001b[38;5;124mt let you open fd=\u001b[39m\u001b[38;5;132;01m{\u001b[39;00mfile\u001b[38;5;132;01m}\u001b[39;00m\u001b[38;5;124m by default \u001b[39m\u001b[38;5;124m\"\u001b[39m\n\u001b[1;32m    320\u001b[0m         \u001b[38;5;124m\"\u001b[39m\u001b[38;5;124mas it is likely to crash IPython. If you know what you are doing, \u001b[39m\u001b[38;5;124m\"\u001b[39m\n\u001b[1;32m    321\u001b[0m         \u001b[38;5;124m\"\u001b[39m\u001b[38;5;124myou can use builtins\u001b[39m\u001b[38;5;124m'\u001b[39m\u001b[38;5;124m open.\u001b[39m\u001b[38;5;124m\"\u001b[39m\n\u001b[1;32m    322\u001b[0m     )\n\u001b[0;32m--> 324\u001b[0m \u001b[38;5;28;01mreturn\u001b[39;00m \u001b[43mio_open\u001b[49m\u001b[43m(\u001b[49m\u001b[43mfile\u001b[49m\u001b[43m,\u001b[49m\u001b[43m \u001b[49m\u001b[38;5;241;43m*\u001b[39;49m\u001b[43margs\u001b[49m\u001b[43m,\u001b[49m\u001b[43m \u001b[49m\u001b[38;5;241;43m*\u001b[39;49m\u001b[38;5;241;43m*\u001b[39;49m\u001b[43mkwargs\u001b[49m\u001b[43m)\u001b[49m\n",
      "\u001b[0;31mFileNotFoundError\u001b[0m: [Errno 2] No such file or directory: '/mnt/d/My_Prj/cavi_prj/dataDynamo/trazaxyz_/8_de_abril/.csv'"
     ]
    }
   ],
   "source": [
    "# Define destination path and name of the street\n",
    "street_name = \"8_de_abril\"                                                          # Define name\n",
    "destination_folder = \"/mnt/d/My_Prj/cavi_prj/dataDynamo/\"                        # Define path\n",
    "destination_path = os.path.join(destination_folder,\"trazaxyz_\"+ street_name + \".csv\")       # Define path\n",
    "\n",
    "# Process the copied trazaxyz_street.csv file\n",
    "def clean_line(line):\n",
    "    line = line.replace(\"Point(X = \", \"\").replace(\" Y = \", \"\").replace(\" Z = \", \"\").replace(\")\", \"\")\n",
    "    return line\n",
    "\n",
    "# Read the trazaxyz_street.csv , clean it, and save to Extracted_Coordinates.csv (renaming if necessary)\n",
    "cleaned_lines = []\n",
    "with open(destination_path, 'r') as file:\n",
    "    for line in file:\n",
    "        cleaned_lines.append(clean_line(line))\n",
    "\n",
    "# Ensure the cleaned file is saved with a unique name if it already exists\n",
    "output_file_path = os.path.join(destination_folder, 'Extracted_Coordinates.csv')\n",
    "if os.path.exists(output_file_path):\n",
    "    counter = 1\n",
    "    while os.path.exists(output_file_path):\n",
    "        output_file_path = os.path.join(destination_folder, f'Extracted_Coordinates_{counter}.csv')\n",
    "        counter += 1\n",
    "\n",
    "# Write the cleaned lines to the new CSV file\n",
    "with open(output_file_path, 'w') as file:\n",
    "    file.writelines(cleaned_lines)\n",
    "\n",
    "# Load the cleaned coordinates CSV file\n",
    "coordinates_data = pd.read_csv(output_file_path, header=None)\n",
    "coordinates_data.columns = ['X', 'Y', 'Z']\n",
    "\n",
    "# Load the SWMM model file\n",
    "swmm_model_file_path = 'A-12-CAV-SWMM-Actual_test.inp'                          # Define source file location\n",
    "with open(swmm_model_file_path, 'r', encoding='latin1') as file:\n",
    "    swmm_model_data = file.readlines()\n",
    "\n",
    "# Generate new junction names and prepare data to add\n",
    "new_junctions = []\n",
    "new_coordinates = []\n",
    "junction_counter = 1\n",
    "\n",
    "for index, row in coordinates_data.iterrows():\n",
    "    junction_name = f\"{street_name}_{junction_counter}\"\n",
    "    x, y, z = row['X'], row['Y'], row['Z']\n",
    "    \n",
    "    # Add to [COORDINATES] section\n",
    "    new_coordinates.append(f\"{junction_name}\\t{x:.3f}\\t{y:.3f}\\n\")\n",
    "    \n",
    "    # Add to [JUNCTIONS] section\n",
    "    new_junctions.append(f\"{junction_name}\\t{z:.3f}\\t0\\t0\\t0\\t0\\n\")\n",
    "    \n",
    "    junction_counter += 1\n",
    "\n",
    "# Find where to insert the new data in the SWMM model file\n",
    "coordinates_section_start = None\n",
    "junctions_section_start = None\n",
    "\n",
    "for i, line in enumerate(swmm_model_data):\n",
    "    if '[COORDINATES]' in line:\n",
    "        coordinates_section_start = i + 2  # Skip the header line\n",
    "    if '[JUNCTIONS]' in line:\n",
    "        junctions_section_start = i + 2  # Skip the header line\n",
    "\n",
    "# Insert new junction data\n",
    "if coordinates_section_start is not None:\n",
    "    swmm_model_data[coordinates_section_start:coordinates_section_start] = new_coordinates\n",
    "\n",
    "if junctions_section_start is not None:\n",
    "    swmm_model_data[junctions_section_start:junctions_section_start] = new_junctions\n",
    "\n",
    "# Save the modified SWMM model file\n",
    "modified_swmm_model_file_path = 'Modified_A-12-CAV-SWMM-Actual_test.inp'        # Define path\n",
    "with open(modified_swmm_model_file_path, 'w', encoding='latin1') as file:\n",
    "    file.writelines(swmm_model_data)\n",
    "\n",
    "print(f\"Processed coordinates file saved to: {output_file_path}\")\n",
    "print(f\"Modified file saved to: {modified_swmm_model_file_path}\")"
   ]
  }
 ],
 "metadata": {
  "kernelspec": {
   "display_name": "pyswmm",
   "language": "python",
   "name": "python3"
  },
  "language_info": {
   "codemirror_mode": {
    "name": "ipython",
    "version": 3
   },
   "file_extension": ".py",
   "mimetype": "text/x-python",
   "name": "python",
   "nbconvert_exporter": "python",
   "pygments_lexer": "ipython3",
   "version": "3.12.4"
  }
 },
 "nbformat": 4,
 "nbformat_minor": 2
}
